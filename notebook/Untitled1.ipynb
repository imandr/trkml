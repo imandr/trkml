{
 "cells": [
  {
   "cell_type": "code",
   "execution_count": 10,
   "metadata": {
    "collapsed": false
   },
   "outputs": [
    {
     "name": "stdout",
     "output_type": "stream",
     "text": [
      "[[[ 0.02677396 -0.01570731  0.1488453   0.02892883  0.08291504]\n",
      "  [ 0.11539099  0.01385299  0.21863274 -0.01548169  0.11000045]\n",
      "  [ 0.15411161  0.01749671  0.30971262 -0.02676236  0.10856816]\n",
      "  [ 0.20070231  0.02405731  0.32748985 -0.03598929  0.13359897]\n",
      "  [ 0.18734573  0.03043482  0.36210623 -0.04483346  0.06785216]]]\n",
      "[[[ 0.02677396 -0.01570731  0.1488453   0.02892883  0.08291504]\n",
      "  [ 0.11539099  0.01385299  0.21863274 -0.01548169  0.11000045]\n",
      "  [ 0.15411161  0.01749671  0.30971262 -0.02676236  0.10856816]\n",
      "  [ 0.20070231  0.02405731  0.32748985 -0.03598929  0.13359897]\n",
      "  [ 0.18734573  0.03043482  0.36210623 -0.04483346  0.06785216]]]\n"
     ]
    }
   ],
   "source": [
    "from keras.models import Model\n",
    "from keras.layers import Input, Dense, LSTM\n",
    "from keras.optimizers import Adadelta\n",
    "\n",
    "import numpy as np\n",
    "\n",
    "inp = Input(shape=(None, 3))\n",
    "\n",
    "f = LSTM(5, return_sequences=True)(inp)\n",
    "b = LSTM(5, return_sequences=True, go_backwards=True)(inp)\n",
    "\n",
    "mf = Model(inputs=(inp,), outputs=(f,))\n",
    "mb = Model(inputs=(inp,), outputs=(b,))\n",
    "\n",
    "#mb.compile(loss='mean_squared_error', optimizer=Adadelta())\n",
    "#mf.compile(loss='mean_squared_error', optimizer=Adadelta())\n",
    "\n",
    "\n",
    "mf.set_weights(mb.get_weights())\n",
    "\n",
    "x = np.random.random((1,5,3))\n",
    "\n",
    "print mf.predict(x)\n",
    "print mb.predict(x[:, ::-1, :])"
   ]
  },
  {
   "cell_type": "code",
   "execution_count": null,
   "metadata": {
    "collapsed": true
   },
   "outputs": [],
   "source": []
  }
 ],
 "metadata": {
  "kernelspec": {
   "display_name": "Python 2",
   "language": "python",
   "name": "python2"
  },
  "language_info": {
   "codemirror_mode": {
    "name": "ipython",
    "version": 2
   },
   "file_extension": ".py",
   "mimetype": "text/x-python",
   "name": "python",
   "nbconvert_exporter": "python",
   "pygments_lexer": "ipython2",
   "version": "2.7.12"
  }
 },
 "nbformat": 4,
 "nbformat_minor": 0
}
